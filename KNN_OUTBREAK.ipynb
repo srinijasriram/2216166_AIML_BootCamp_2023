{
  "nbformat": 4,
  "nbformat_minor": 0,
  "metadata": {
    "colab": {
      "provenance": [],
      "mount_file_id": "10VbODcZfERx1JLP3qspTDxO1J_t_-0x1",
      "authorship_tag": "ABX9TyOYsu3WKGCOn3XyPvFsFjh5",
      "include_colab_link": true
    },
    "kernelspec": {
      "name": "python3",
      "display_name": "Python 3"
    },
    "language_info": {
      "name": "python"
    }
  },
  "cells": [
    {
      "cell_type": "markdown",
      "metadata": {
        "id": "view-in-github",
        "colab_type": "text"
      },
      "source": [
        "<a href=\"https://colab.research.google.com/github/srinijasriram/2216166_AIML_BootCamp_2023/blob/main/KNN_OUTBREAK.ipynb\" target=\"_parent\"><img src=\"https://colab.research.google.com/assets/colab-badge.svg\" alt=\"Open In Colab\"/></a>"
      ]
    },
    {
      "cell_type": "code",
      "execution_count": 1,
      "metadata": {
        "id": "DOfycaQYZ_aR"
      },
      "outputs": [],
      "source": [
        "import pandas as pd\n",
        "df=pd.read_csv(\"/content/drive/MyDrive/outbreak_detect.csv\") "
      ]
    },
    {
      "cell_type": "code",
      "source": [
        "import matplotlib.pyplot as plt\n",
        "import seaborn as sns\n",
        "def get_heatmap(df):\n",
        "  plt.figure(figsize=(6,4))\n",
        "  sns.heatmap(df.isnull(),yticklabels=False,cbar=False,cmap='Pastel1')\n",
        "  return plt.show()#gist_rainbow\n",
        "get_heatmap(df)"
      ],
      "metadata": {
        "colab": {
          "base_uri": "https://localhost:8080/",
          "height": 319
        },
        "id": "4zZ5LZBTaL6T",
        "outputId": "9171211d-26a2-4dc8-a48e-b7c654b62f3b"
      },
      "execution_count": 2,
      "outputs": [
        {
          "output_type": "display_data",
          "data": {
            "text/plain": [
              "<Figure size 432x288 with 1 Axes>"
            ],
            "image/png": "[encoded data removed]"
          },
          "metadata": {
            "needs_background": "light"
          }
        }
      ]
    },
    {
      "cell_type": "code",
      "source": [
        "median_maxTemp=df['maxTemp'].median()\n",
        "print(median_maxTemp)     "
      ],
      "metadata": {
        "colab": {
          "base_uri": "https://localhost:8080/"
        },
        "id": "uXIYNY74aPNE",
        "outputId": "ea000a63-bc56-4a44-8776-ca5b58708b24"
      },
      "execution_count": 3,
      "outputs": [
        {
          "output_type": "stream",
          "name": "stdout",
          "text": [
            "33.5\n"
          ]
        }
      ]
    },
    {
      "cell_type": "code",
      "source": [
        "median_minTemp=df['minTemp'].median()\n",
        "print(median_minTemp)"
      ],
      "metadata": {
        "colab": {
          "base_uri": "https://localhost:8080/"
        },
        "id": "oEXnh69uaRjM",
        "outputId": "1981a1de-6037-41e9-96f1-d8dd6cafd84d"
      },
      "execution_count": 4,
      "outputs": [
        {
          "output_type": "stream",
          "name": "stdout",
          "text": [
            "24.0\n"
          ]
        }
      ]
    },
    {
      "cell_type": "code",
      "source": [
        "df['maxTemp']=df['maxTemp'].fillna(median_maxTemp)\n",
        "df['minTemp']=df['minTemp'].fillna(median_minTemp)"
      ],
      "metadata": {
        "id": "20ZMYIFKaTsT"
      },
      "execution_count": 5,
      "outputs": []
    },
    {
      "cell_type": "code",
      "source": [
        "from sklearn import preprocessing\n",
        "\n",
        "#label encoding\n",
        "LE=preprocessing.LabelEncoder()\n",
        "\n",
        "#fitting the technique to dataset\n",
        "df.Outbreak=LE.fit_transform(df.Outbreak) #converting variables to numeric values\n",
        "df.head(26)"
      ],
      "metadata": {
        "colab": {
          "base_uri": "https://localhost:8080/",
          "height": 865
        },
        "id": "Cyvx3YmSaWug",
        "outputId": "1e9639b7-6d54-4b67-915d-2f2142333804"
      },
      "execution_count": 6,
      "outputs": [
        {
          "output_type": "execute_result",
          "data": {
            "text/plain": [
              "    maxTemp  minTemp  avgHumidity  Rainfall  Positive   pf  Outbreak\n",
              "0      29.0     18.0        49.74      0.00      2156  112         0\n",
              "1      34.0     23.0        83.27     15.22     10717  677         1\n",
              "2      40.0     23.0        50.74      0.00      1257  127         0\n",
              "3      33.5     24.0        84.57     11.15      9693  482         0\n",
              "4      34.0     24.0        59.16      9.06      4198  211         0\n",
              "5      34.0     27.0        73.23      0.00     11808  712         1\n",
              "6      31.0     24.0        88.77     41.40     10881  648         1\n",
              "7      33.0     24.0        77.94     23.88      8830  459         1\n",
              "8      31.0     24.0        84.57     11.15      9693  482         0\n",
              "9      36.0     24.0        53.40      2.12      9310  549         0\n",
              "10     32.0     23.0        57.50      0.00     13154  838         1\n",
              "11     34.0     18.0        59.40      0.00      2197  136         0\n",
              "12     42.0     24.0        49.43      2.19      3362  213         0\n",
              "13     45.0     32.0        34.74      0.38       416   26         0\n",
              "14     43.0     28.0        69.07      4.65      7514  410         0\n",
              "15     33.0     23.0        80.97      6.92     10990  390         1\n",
              "16     32.0     24.0        87.32     11.92      6536  338         0\n",
              "17     40.0     27.0        63.97      0.00     11169  776         1\n",
              "18     33.5     24.0        84.57     11.15      9693  482         0\n",
              "19     39.0     25.0        47.52      0.00      8131  312         0\n",
              "20     36.0     26.0        72.78      3.54      5138  213         0\n",
              "21     31.0     23.0        73.35      4.97     10659  612         1\n",
              "22     30.0     23.0        86.81      7.21      9041  418         0\n",
              "23     30.0     22.0        78.80      3.12     11265  404         1\n",
              "24     33.0     22.0        73.71      1.75      9233  212         0\n",
              "25      1.0     24.0        84.57     11.15      9693  482         2"
            ],
            "text/html": [
              "\n",
              "  <div id=\"df-821dfeee-55f8-4594-a873-bf4a1f0ed671\">\n",
              "    <div class=\"colab-df-container\">\n",
              "      <div>\n",
              "<style scoped>\n",
              "    .dataframe tbody tr th:only-of-type {\n",
              "        vertical-align: middle;\n",
              "    }\n",
              "\n",
              "    .dataframe tbody tr th {\n",
              "        vertical-align: top;\n",
              "    }\n",
              "\n",
              "    .dataframe thead th {\n",
              "        text-align: right;\n",
              "    }\n",
              "</style>\n",
              "<table border=\"1\" class=\"dataframe\">\n",
              "  <thead>\n",
              "    <tr style=\"text-align: right;\">\n",
              "      <th></th>\n",
              "      <th>maxTemp</th>\n",
              "      <th>minTemp</th>\n",
              "      <th>avgHumidity</th>\n",
              "      <th>Rainfall</th>\n",
              "      <th>Positive</th>\n",
              "      <th>pf</th>\n",
              "      <th>Outbreak</th>\n",
              "    </tr>\n",
              "  </thead>\n",
              "  <tbody>\n",
              "    <tr>\n",
              "      <th>0</th>\n",
              "      <td>29.0</td>\n",
              "      <td>18.0</td>\n",
              "      <td>49.74</td>\n",
              "      <td>0.00</td>\n",
              "      <td>2156</td>\n",
              "      <td>112</td>\n",
              "      <td>0</td>\n",
              "    </tr>\n",
              "    <tr>\n",
              "      <th>1</th>\n",
              "      <td>34.0</td>\n",
              "      <td>23.0</td>\n",
              "      <td>83.27</td>\n",
              "      <td>15.22</td>\n",
              "      <td>10717</td>\n",
              "      <td>677</td>\n",
              "      <td>1</td>\n",
              "    </tr>\n",
              "    <tr>\n",
              "      <th>2</th>\n",
              "      <td>40.0</td>\n",
              "      <td>23.0</td>\n",
              "      <td>50.74</td>\n",
              "      <td>0.00</td>\n",
              "      <td>1257</td>\n",
              "      <td>127</td>\n",
              "      <td>0</td>\n",
              "    </tr>\n",
              "    <tr>\n",
              "      <th>3</th>\n",
              "      <td>33.5</td>\n",
              "      <td>24.0</td>\n",
              "      <td>84.57</td>\n",
              "      <td>11.15</td>\n",
              "      <td>9693</td>\n",
              "      <td>482</td>\n",
              "      <td>0</td>\n",
              "    </tr>\n",
              "    <tr>\n",
              "      <th>4</th>\n",
              "      <td>34.0</td>\n",
              "      <td>24.0</td>\n",
              "      <td>59.16</td>\n",
              "      <td>9.06</td>\n",
              "      <td>4198</td>\n",
              "      <td>211</td>\n",
              "      <td>0</td>\n",
              "    </tr>\n",
              "    <tr>\n",
              "      <th>5</th>\n",
              "      <td>34.0</td>\n",
              "      <td>27.0</td>\n",
              "      <td>73.23</td>\n",
              "      <td>0.00</td>\n",
              "      <td>11808</td>\n",
              "      <td>712</td>\n",
              "      <td>1</td>\n",
              "    </tr>\n",
              "    <tr>\n",
              "      <th>6</th>\n",
              "      <td>31.0</td>\n",
              "      <td>24.0</td>\n",
              "      <td>88.77</td>\n",
              "      <td>41.40</td>\n",
              "      <td>10881</td>\n",
              "      <td>648</td>\n",
              "      <td>1</td>\n",
              "    </tr>\n",
              "    <tr>\n",
              "      <th>7</th>\n",
              "      <td>33.0</td>\n",
              "      <td>24.0</td>\n",
              "      <td>77.94</td>\n",
              "      <td>23.88</td>\n",
              "      <td>8830</td>\n",
              "      <td>459</td>\n",
              "      <td>1</td>\n",
              "    </tr>\n",
              "    <tr>\n",
              "      <th>8</th>\n",
              "      <td>31.0</td>\n",
              "      <td>24.0</td>\n",
              "      <td>84.57</td>\n",
              "      <td>11.15</td>\n",
              "      <td>9693</td>\n",
              "      <td>482</td>\n",
              "      <td>0</td>\n",
              "    </tr>\n",
              "    <tr>\n",
              "      <th>9</th>\n",
              "      <td>36.0</td>\n",
              "      <td>24.0</td>\n",
              "      <td>53.40</td>\n",
              "      <td>2.12</td>\n",
              "      <td>9310</td>\n",
              "      <td>549</td>\n",
              "      <td>0</td>\n",
              "    </tr>\n",
              "    <tr>\n",
              "      <th>10</th>\n",
              "      <td>32.0</td>\n",
              "      <td>23.0</td>\n",
              "      <td>57.50</td>\n",
              "      <td>0.00</td>\n",
              "      <td>13154</td>\n",
              "      <td>838</td>\n",
              "      <td>1</td>\n",
              "    </tr>\n",
              "    <tr>\n",
              "      <th>11</th>\n",
              "      <td>34.0</td>\n",
              "      <td>18.0</td>\n",
              "      <td>59.40</td>\n",
              "      <td>0.00</td>\n",
              "      <td>2197</td>\n",
              "      <td>136</td>\n",
              "      <td>0</td>\n",
              "    </tr>\n",
              "    <tr>\n",
              "      <th>12</th>\n",
              "      <td>42.0</td>\n",
              "      <td>24.0</td>\n",
              "      <td>49.43</td>\n",
              "      <td>2.19</td>\n",
              "      <td>3362</td>\n",
              "      <td>213</td>\n",
              "      <td>0</td>\n",
              "    </tr>\n",
              "    <tr>\n",
              "      <th>13</th>\n",
              "      <td>45.0</td>\n",
              "      <td>32.0</td>\n",
              "      <td>34.74</td>\n",
              "      <td>0.38</td>\n",
              "      <td>416</td>\n",
              "      <td>26</td>\n",
              "      <td>0</td>\n",
              "    </tr>\n",
              "    <tr>\n",
              "      <th>14</th>\n",
              "      <td>43.0</td>\n",
              "      <td>28.0</td>\n",
              "      <td>69.07</td>\n",
              "      <td>4.65</td>\n",
              "      <td>7514</td>\n",
              "      <td>410</td>\n",
              "      <td>0</td>\n",
              "    </tr>\n",
              "    <tr>\n",
              "      <th>15</th>\n",
              "      <td>33.0</td>\n",
              "      <td>23.0</td>\n",
              "      <td>80.97</td>\n",
              "      <td>6.92</td>\n",
              "      <td>10990</td>\n",
              "      <td>390</td>\n",
              "      <td>1</td>\n",
              "    </tr>\n",
              "    <tr>\n",
              "      <th>16</th>\n",
              "      <td>32.0</td>\n",
              "      <td>24.0</td>\n",
              "      <td>87.32</td>\n",
              "      <td>11.92</td>\n",
              "      <td>6536</td>\n",
              "      <td>338</td>\n",
              "      <td>0</td>\n",
              "    </tr>\n",
              "    <tr>\n",
              "      <th>17</th>\n",
              "      <td>40.0</td>\n",
              "      <td>27.0</td>\n",
              "      <td>63.97</td>\n",
              "      <td>0.00</td>\n",
              "      <td>11169</td>\n",
              "      <td>776</td>\n",
              "      <td>1</td>\n",
              "    </tr>\n",
              "    <tr>\n",
              "      <th>18</th>\n",
              "      <td>33.5</td>\n",
              "      <td>24.0</td>\n",
              "      <td>84.57</td>\n",
              "      <td>11.15</td>\n",
              "      <td>9693</td>\n",
              "      <td>482</td>\n",
              "      <td>0</td>\n",
              "    </tr>\n",
              "    <tr>\n",
              "      <th>19</th>\n",
              "      <td>39.0</td>\n",
              "      <td>25.0</td>\n",
              "      <td>47.52</td>\n",
              "      <td>0.00</td>\n",
              "      <td>8131</td>\n",
              "      <td>312</td>\n",
              "      <td>0</td>\n",
              "    </tr>\n",
              "    <tr>\n",
              "      <th>20</th>\n",
              "      <td>36.0</td>\n",
              "      <td>26.0</td>\n",
              "      <td>72.78</td>\n",
              "      <td>3.54</td>\n",
              "      <td>5138</td>\n",
              "      <td>213</td>\n",
              "      <td>0</td>\n",
              "    </tr>\n",
              "    <tr>\n",
              "      <th>21</th>\n",
              "      <td>31.0</td>\n",
              "      <td>23.0</td>\n",
              "      <td>73.35</td>\n",
              "      <td>4.97</td>\n",
              "      <td>10659</td>\n",
              "      <td>612</td>\n",
              "      <td>1</td>\n",
              "    </tr>\n",
              "    <tr>\n",
              "      <th>22</th>\n",
              "      <td>30.0</td>\n",
              "      <td>23.0</td>\n",
              "      <td>86.81</td>\n",
              "      <td>7.21</td>\n",
              "      <td>9041</td>\n",
              "      <td>418</td>\n",
              "      <td>0</td>\n",
              "    </tr>\n",
              "    <tr>\n",
              "      <th>23</th>\n",
              "      <td>30.0</td>\n",
              "      <td>22.0</td>\n",
              "      <td>78.80</td>\n",
              "      <td>3.12</td>\n",
              "      <td>11265</td>\n",
              "      <td>404</td>\n",
              "      <td>1</td>\n",
              "    </tr>\n",
              "    <tr>\n",
              "      <th>24</th>\n",
              "      <td>33.0</td>\n",
              "      <td>22.0</td>\n",
              "      <td>73.71</td>\n",
              "      <td>1.75</td>\n",
              "      <td>9233</td>\n",
              "      <td>212</td>\n",
              "      <td>0</td>\n",
              "    </tr>\n",
              "    <tr>\n",
              "      <th>25</th>\n",
              "      <td>1.0</td>\n",
              "      <td>24.0</td>\n",
              "      <td>84.57</td>\n",
              "      <td>11.15</td>\n",
              "      <td>9693</td>\n",
              "      <td>482</td>\n",
              "      <td>2</td>\n",
              "    </tr>\n",
              "  </tbody>\n",
              "</table>\n",
              "</div>\n",
              "      <button class=\"colab-df-convert\" onclick=\"convertToInteractive('df-821dfeee-55f8-4594-a873-bf4a1f0ed671')\"\n",
              "              title=\"Convert this dataframe to an interactive table.\"\n",
              "              style=\"display:none;\">\n",
              "        \n",
              "  <svg xmlns=\"http://www.w3.org/2000/svg\" height=\"24px\"viewBox=\"0 0 24 24\"\n",
              "       width=\"24px\">\n",
              "    <path d=\"M0 0h24v24H0V0z\" fill=\"none\"/>\n",
              "    <path d=\"M18.56 5.44l.94 2.06.94-2.06 2.06-.94-2.06-.94-.94-2.06-.94 2.06-2.06.94zm-11 1L8.5 8.5l.94-2.06 2.06-.94-2.06-.94L8.5 2.5l-.94 2.06-2.06.94zm10 10l.94 2.06.94-2.06 2.06-.94-2.06-.94-.94-2.06-.94 2.06-2.06.94z\"/><path d=\"M17.41 7.96l-1.37-1.37c-.4-.4-.92-.59-1.43-.59-.52 0-1.04.2-1.43.59L10.3 9.45l-7.72 7.72c-.78.78-.78 2.05 0 2.83L4 21.41c.39.39.9.59 1.41.59.51 0 1.02-.2 1.41-.59l7.78-7.78 2.81-2.81c.8-.78.8-2.07 0-2.86zM5.41 20L4 18.59l7.72-7.72 1.47 1.35L5.41 20z\"/>\n",
              "  </svg>\n",
              "      </button>\n",
              "      \n",
              "  <style>\n",
              "    .colab-df-container {\n",
              "      display:flex;\n",
              "      flex-wrap:wrap;\n",
              "      gap: 12px;\n",
              "    }\n",
              "\n",
              "    .colab-df-convert {\n",
              "      background-color: #E8F0FE;\n",
              "      border: none;\n",
              "      border-radius: 50%;\n",
              "      cursor: pointer;\n",
              "      display: none;\n",
              "      fill: #1967D2;\n",
              "      height: 32px;\n",
              "      padding: 0 0 0 0;\n",
              "      width: 32px;\n",
              "    }\n",
              "\n",
              "    .colab-df-convert:hover {\n",
              "      background-color: #E2EBFA;\n",
              "      box-shadow: 0px 1px 2px rgba(60, 64, 67, 0.3), 0px 1px 3px 1px rgba(60, 64, 67, 0.15);\n",
              "      fill: #174EA6;\n",
              "    }\n",
              "\n",
              "    [theme=dark] .colab-df-convert {\n",
              "      background-color: #3B4455;\n",
              "      fill: #D2E3FC;\n",
              "    }\n",
              "\n",
              "    [theme=dark] .colab-df-convert:hover {\n",
              "      background-color: #434B5C;\n",
              "      box-shadow: 0px 1px 3px 1px rgba(0, 0, 0, 0.15);\n",
              "      filter: drop-shadow(0px 1px 2px rgba(0, 0, 0, 0.3));\n",
              "      fill: #FFFFFF;\n",
              "    }\n",
              "  </style>\n",
              "\n",
              "      <script>\n",
              "        const buttonEl =\n",
              "          document.querySelector('#df-821dfeee-55f8-4594-a873-bf4a1f0ed671 button.colab-df-convert');\n",
              "        buttonEl.style.display =\n",
              "          google.colab.kernel.accessAllowed ? 'block' : 'none';\n",
              "\n",
              "        async function convertToInteractive(key) {\n",
              "          const element = document.querySelector('#df-821dfeee-55f8-4594-a873-bf4a1f0ed671');\n",
              "          const dataTable =\n",
              "            await google.colab.kernel.invokeFunction('convertToInteractive',\n",
              "                                                     [key], {});\n",
              "          if (!dataTable) return;\n",
              "\n",
              "          const docLinkHtml = 'Like what you see? Visit the ' +\n",
              "            '<a target=\"_blank\" href=https://colab.research.google.com/notebooks/data_table.ipynb>data table notebook</a>'\n",
              "            + ' to learn more about interactive tables.';\n",
              "          element.innerHTML = '';\n",
              "          dataTable['output_type'] = 'display_data';\n",
              "          await google.colab.output.renderOutput(dataTable, element);\n",
              "          const docLink = document.createElement('div');\n",
              "          docLink.innerHTML = docLinkHtml;\n",
              "          element.appendChild(docLink);\n",
              "        }\n",
              "      </script>\n",
              "    </div>\n",
              "  </div>\n",
              "  "
            ]
          },
          "metadata": {},
          "execution_count": 6
        }
      ]
    },
    {
      "cell_type": "code",
      "source": [
        "median_Outbreak=df['Outbreak'].median()\n",
        "print(median_Outbreak)"
      ],
      "metadata": {
        "colab": {
          "base_uri": "https://localhost:8080/"
        },
        "id": "PUSkyEhAaZ6h",
        "outputId": "92d3b3bf-89a4-4d80-ac2a-e4c4c3c710f8"
      },
      "execution_count": 7,
      "outputs": [
        {
          "output_type": "stream",
          "name": "stdout",
          "text": [
            "0.0\n"
          ]
        }
      ]
    },
    {
      "cell_type": "code",
      "source": [
        "df['Outbreak']=df['Outbreak'].replace(2,0)\n",
        "print(df)"
      ],
      "metadata": {
        "colab": {
          "base_uri": "https://localhost:8080/"
        },
        "id": "7eygs23RadGF",
        "outputId": "abac4183-5a37-4a78-a5d9-7b6477163ede"
      },
      "execution_count": 8,
      "outputs": [
        {
          "output_type": "stream",
          "name": "stdout",
          "text": [
            "    maxTemp  minTemp  avgHumidity  Rainfall  Positive   pf  Outbreak\n",
            "0      29.0     18.0        49.74      0.00      2156  112         0\n",
            "1      34.0     23.0        83.27     15.22     10717  677         1\n",
            "2      40.0     23.0        50.74      0.00      1257  127         0\n",
            "3      33.5     24.0        84.57     11.15      9693  482         0\n",
            "4      34.0     24.0        59.16      9.06      4198  211         0\n",
            "5      34.0     27.0        73.23      0.00     11808  712         1\n",
            "6      31.0     24.0        88.77     41.40     10881  648         1\n",
            "7      33.0     24.0        77.94     23.88      8830  459         1\n",
            "8      31.0     24.0        84.57     11.15      9693  482         0\n",
            "9      36.0     24.0        53.40      2.12      9310  549         0\n",
            "10     32.0     23.0        57.50      0.00     13154  838         1\n",
            "11     34.0     18.0        59.40      0.00      2197  136         0\n",
            "12     42.0     24.0        49.43      2.19      3362  213         0\n",
            "13     45.0     32.0        34.74      0.38       416   26         0\n",
            "14     43.0     28.0        69.07      4.65      7514  410         0\n",
            "15     33.0     23.0        80.97      6.92     10990  390         1\n",
            "16     32.0     24.0        87.32     11.92      6536  338         0\n",
            "17     40.0     27.0        63.97      0.00     11169  776         1\n",
            "18     33.5     24.0        84.57     11.15      9693  482         0\n",
            "19     39.0     25.0        47.52      0.00      8131  312         0\n",
            "20     36.0     26.0        72.78      3.54      5138  213         0\n",
            "21     31.0     23.0        73.35      4.97     10659  612         1\n",
            "22     30.0     23.0        86.81      7.21      9041  418         0\n",
            "23     30.0     22.0        78.80      3.12     11265  404         1\n",
            "24     33.0     22.0        73.71      1.75      9233  212         0\n",
            "25      1.0     24.0        84.57     11.15      9693  482         0\n"
          ]
        }
      ]
    },
    {
      "cell_type": "code",
      "source": [
        "df=df.drop(['Positive',   'pf'],axis =1)"
      ],
      "metadata": {
        "id": "Coy1nNEhaf2g"
      },
      "execution_count": 9,
      "outputs": []
    },
    {
      "cell_type": "code",
      "source": [
        "X=df.iloc[:,:-1].values #iloc==>index location 2D array\n",
        "Y=df.iloc[:,-1:].values #2D array"
      ],
      "metadata": {
        "id": "lQl5n4UgaisT"
      },
      "execution_count": 10,
      "outputs": []
    },
    {
      "cell_type": "code",
      "source": [
        "from sklearn.model_selection import train_test_split\n",
        "X_train,X_test,Y_train,Y_test=train_test_split(X,Y,test_size=0.2,random_state=0)"
      ],
      "metadata": {
        "id": "TqcJejo5am_E"
      },
      "execution_count": 11,
      "outputs": []
    },
    {
      "cell_type": "code",
      "source": [
        "#Normalizing the data-Standard Scalar\n",
        "from sklearn.preprocessing  import StandardScaler\n",
        "sst=StandardScaler()\n",
        "X_train=sst.fit_transform(X_train)\n",
        "X_test=sst.transform(X_test)"
      ],
      "metadata": {
        "id": "_okSloMCaqBq"
      },
      "execution_count": 13,
      "outputs": []
    },
    {
      "cell_type": "code",
      "source": [
        "from sklearn.neighbors import KNeighborsClassifier\n",
        "knn_model=KNeighborsClassifier(n_neighbors=3)"
      ],
      "metadata": {
        "id": "hvpZGMG6auLv"
      },
      "execution_count": 15,
      "outputs": []
    },
    {
      "cell_type": "code",
      "source": [
        "knn_model.fit(X_train,Y_train)"
      ],
      "metadata": {
        "colab": {
          "base_uri": "https://localhost:8080/",
          "height": 129
        },
        "id": "hjCRPM9ea0dm",
        "outputId": "8c2ce27f-9690-45a6-d97e-8e32c087e0f2"
      },
      "execution_count": 16,
      "outputs": [
        {
          "output_type": "stream",
          "name": "stderr",
          "text": [
            "/usr/local/lib/python3.9/dist-packages/sklearn/neighbors/_classification.py:215: DataConversionWarning: A column-vector y was passed when a 1d array was expected. Please change the shape of y to (n_samples,), for example using ravel().\n",
            "  return self._fit(X, y)\n"
          ]
        },
        {
          "output_type": "execute_result",
          "data": {
            "text/plain": [
              "KNeighborsClassifier(n_neighbors=3)"
            ],
            "text/html": [
              "<style>#sk-container-id-1 {color: black;background-color: white;}#sk-container-id-1 pre{padding: 0;}#sk-container-id-1 div.sk-toggleable {background-color: white;}#sk-container-id-1 label.sk-toggleable__label {cursor: pointer;display: block;width: 100%;margin-bottom: 0;padding: 0.3em;box-sizing: border-box;text-align: center;}#sk-container-id-1 label.sk-toggleable__label-arrow:before {content: \"▸\";float: left;margin-right: 0.25em;color: #696969;}#sk-container-id-1 label.sk-toggleable__label-arrow:hover:before {color: black;}#sk-container-id-1 div.sk-estimator:hover label.sk-toggleable__label-arrow:before {color: black;}#sk-container-id-1 div.sk-toggleable__content {max-height: 0;max-width: 0;overflow: hidden;text-align: left;background-color: #f0f8ff;}#sk-container-id-1 div.sk-toggleable__content pre {margin: 0.2em;color: black;border-radius: 0.25em;background-color: #f0f8ff;}#sk-container-id-1 input.sk-toggleable__control:checked~div.sk-toggleable__content {max-height: 200px;max-width: 100%;overflow: auto;}#sk-container-id-1 input.sk-toggleable__control:checked~label.sk-toggleable__label-arrow:before {content: \"▾\";}#sk-container-id-1 div.sk-estimator input.sk-toggleable__control:checked~label.sk-toggleable__label {background-color: #d4ebff;}#sk-container-id-1 div.sk-label input.sk-toggleable__control:checked~label.sk-toggleable__label {background-color: #d4ebff;}#sk-container-id-1 input.sk-hidden--visually {border: 0;clip: rect(1px 1px 1px 1px);clip: rect(1px, 1px, 1px, 1px);height: 1px;margin: -1px;overflow: hidden;padding: 0;position: absolute;width: 1px;}#sk-container-id-1 div.sk-estimator {font-family: monospace;background-color: #f0f8ff;border: 1px dotted black;border-radius: 0.25em;box-sizing: border-box;margin-bottom: 0.5em;}#sk-container-id-1 div.sk-estimator:hover {background-color: #d4ebff;}#sk-container-id-1 div.sk-parallel-item::after {content: \"\";width: 100%;border-bottom: 1px solid gray;flex-grow: 1;}#sk-container-id-1 div.sk-label:hover label.sk-toggleable__label {background-color: #d4ebff;}#sk-container-id-1 div.sk-serial::before {content: \"\";position: absolute;border-left: 1px solid gray;box-sizing: border-box;top: 0;bottom: 0;left: 50%;z-index: 0;}#sk-container-id-1 div.sk-serial {display: flex;flex-direction: column;align-items: center;background-color: white;padding-right: 0.2em;padding-left: 0.2em;position: relative;}#sk-container-id-1 div.sk-item {position: relative;z-index: 1;}#sk-container-id-1 div.sk-parallel {display: flex;align-items: stretch;justify-content: center;background-color: white;position: relative;}#sk-container-id-1 div.sk-item::before, #sk-container-id-1 div.sk-parallel-item::before {content: \"\";position: absolute;border-left: 1px solid gray;box-sizing: border-box;top: 0;bottom: 0;left: 50%;z-index: -1;}#sk-container-id-1 div.sk-parallel-item {display: flex;flex-direction: column;z-index: 1;position: relative;background-color: white;}#sk-container-id-1 div.sk-parallel-item:first-child::after {align-self: flex-end;width: 50%;}#sk-container-id-1 div.sk-parallel-item:last-child::after {align-self: flex-start;width: 50%;}#sk-container-id-1 div.sk-parallel-item:only-child::after {width: 0;}#sk-container-id-1 div.sk-dashed-wrapped {border: 1px dashed gray;margin: 0 0.4em 0.5em 0.4em;box-sizing: border-box;padding-bottom: 0.4em;background-color: white;}#sk-container-id-1 div.sk-label label {font-family: monospace;font-weight: bold;display: inline-block;line-height: 1.2em;}#sk-container-id-1 div.sk-label-container {text-align: center;}#sk-container-id-1 div.sk-container {/* jupyter's `normalize.less` sets `[hidden] { display: none; }` but bootstrap.min.css set `[hidden] { display: none !important; }` so we also need the `!important` here to be able to override the default hidden behavior on the sphinx rendered scikit-learn.org. See: https://github.com/scikit-learn/scikit-learn/issues/21755 */display: inline-block !important;position: relative;}#sk-container-id-1 div.sk-text-repr-fallback {display: none;}</style><div id=\"sk-container-id-1\" class=\"sk-top-container\"><div class=\"sk-text-repr-fallback\"><pre>KNeighborsClassifier(n_neighbors=3)</pre><b>In a Jupyter environment, please rerun this cell to show the HTML representation or trust the notebook. <br />On GitHub, the HTML representation is unable to render, please try loading this page with nbviewer.org.</b></div><div class=\"sk-container\" hidden><div class=\"sk-item\"><div class=\"sk-estimator sk-toggleable\"><input class=\"sk-toggleable__control sk-hidden--visually\" id=\"sk-estimator-id-1\" type=\"checkbox\" checked><label for=\"sk-estimator-id-1\" class=\"sk-toggleable__label sk-toggleable__label-arrow\">KNeighborsClassifier</label><div class=\"sk-toggleable__content\"><pre>KNeighborsClassifier(n_neighbors=3)</pre></div></div></div></div></div>"
            ]
          },
          "metadata": {},
          "execution_count": 16
        }
      ]
    },
    {
      "cell_type": "code",
      "source": [
        "ypred=knn_model.predict(X_test)"
      ],
      "metadata": {
        "id": "vppgBfc6a54m"
      },
      "execution_count": 17,
      "outputs": []
    },
    {
      "cell_type": "code",
      "source": [
        "print(\"predicted value for training data : \",knn_model.score(X_train,Y_train))\n",
        "print(\"predicted value for testing data : \",knn_model.score(X_test,Y_test))\n",
        "print(\"predicted value for overall data : \",knn_model.score(sst.transform(X),Y))"
      ],
      "metadata": {
        "colab": {
          "base_uri": "https://localhost:8080/"
        },
        "id": "mCwPBheia76Y",
        "outputId": "551d3025-33c0-42a7-aeac-36b2cd0dd1ac"
      },
      "execution_count": 18,
      "outputs": [
        {
          "output_type": "stream",
          "name": "stdout",
          "text": [
            "predicted value for training data :  0.85\n",
            "predicted value for testing data :  0.6666666666666666\n",
            "predicted value for overall data :  0.8076923076923077\n"
          ]
        }
      ]
    },
    {
      "cell_type": "code",
      "source": [
        "import numpy as np\n",
        "neighbors = np.arange(1,20)\n",
        "train_accuracy=np.empty(len(neighbors))\n",
        "test_accuracy=np.empty(len(neighbors))\n",
        "overall_accuracy=np.empty(len(neighbors))\n",
        "#Loop over K values\n",
        "for i,k in enumerate(neighbors):\n",
        "  knn=KNeighborsClassifier(n_neighbors=k)\n",
        "  knn.fit(X_train,Y_train)\n",
        "\n",
        "  #Compute the training and testing accuracy of ML model\n",
        "  train_accuracy[i]=knn.score(X_train,Y_train)\n",
        "  test_accuracy[i]=knn.score(X_test,Y_test)\n",
        "\n",
        "  #overall score\n",
        "  overall_accuracy[i]=knn.score(sst.transform(X),Y)\n",
        "\n",
        "import matplotlib.pyplot as plt\n",
        "plt.plot(neighbors,train_accuracy,label='Training dataset accuracy')\n",
        "plt.plot(neighbors,test_accuracy,label='Testing dataset accuracy')\n",
        "plt.plot(neighbors,overall_accuracy,label='overall dataset accuracy')\n",
        "plt.legend()\n",
        "plt.xlabel('k values - n neighbors')\n",
        "plt.ylabel(\"Accuracies\")\n",
        "plt.show()"
      ],
      "metadata": {
        "colab": {
          "base_uri": "https://localhost:8080/",
          "height": 959
        },
        "id": "dO8X2OtlbBlR",
        "outputId": "f05fd16d-db0c-4817-b7e4-2971cd31150c"
      },
      "execution_count": 19,
      "outputs": [
        {
          "output_type": "stream",
          "name": "stderr",
          "text": [
            "/usr/local/lib/python3.9/dist-packages/sklearn/neighbors/_classification.py:215: DataConversionWarning: A column-vector y was passed when a 1d array was expected. Please change the shape of y to (n_samples,), for example using ravel().\n",
            "  return self._fit(X, y)\n",
            "/usr/local/lib/python3.9/dist-packages/sklearn/neighbors/_classification.py:215: DataConversionWarning: A column-vector y was passed when a 1d array was expected. Please change the shape of y to (n_samples,), for example using ravel().\n",
            "  return self._fit(X, y)\n",
            "/usr/local/lib/python3.9/dist-packages/sklearn/neighbors/_classification.py:215: DataConversionWarning: A column-vector y was passed when a 1d array was expected. Please change the shape of y to (n_samples,), for example using ravel().\n",
            "  return self._fit(X, y)\n",
            "/usr/local/lib/python3.9/dist-packages/sklearn/neighbors/_classification.py:215: DataConversionWarning: A column-vector y was passed when a 1d array was expected. Please change the shape of y to (n_samples,), for example using ravel().\n",
            "  return self._fit(X, y)\n",
            "/usr/local/lib/python3.9/dist-packages/sklearn/neighbors/_classification.py:215: DataConversionWarning: A column-vector y was passed when a 1d array was expected. Please change the shape of y to (n_samples,), for example using ravel().\n",
            "  return self._fit(X, y)\n",
            "/usr/local/lib/python3.9/dist-packages/sklearn/neighbors/_classification.py:215: DataConversionWarning: A column-vector y was passed when a 1d array was expected. Please change the shape of y to (n_samples,), for example using ravel().\n",
            "  return self._fit(X, y)\n",
            "/usr/local/lib/python3.9/dist-packages/sklearn/neighbors/_classification.py:215: DataConversionWarning: A column-vector y was passed when a 1d array was expected. Please change the shape of y to (n_samples,), for example using ravel().\n",
            "  return self._fit(X, y)\n",
            "/usr/local/lib/python3.9/dist-packages/sklearn/neighbors/_classification.py:215: DataConversionWarning: A column-vector y was passed when a 1d array was expected. Please change the shape of y to (n_samples,), for example using ravel().\n",
            "  return self._fit(X, y)\n",
            "/usr/local/lib/python3.9/dist-packages/sklearn/neighbors/_classification.py:215: DataConversionWarning: A column-vector y was passed when a 1d array was expected. Please change the shape of y to (n_samples,), for example using ravel().\n",
            "  return self._fit(X, y)\n",
            "/usr/local/lib/python3.9/dist-packages/sklearn/neighbors/_classification.py:215: DataConversionWarning: A column-vector y was passed when a 1d array was expected. Please change the shape of y to (n_samples,), for example using ravel().\n",
            "  return self._fit(X, y)\n",
            "/usr/local/lib/python3.9/dist-packages/sklearn/neighbors/_classification.py:215: DataConversionWarning: A column-vector y was passed when a 1d array was expected. Please change the shape of y to (n_samples,), for example using ravel().\n",
            "  return self._fit(X, y)\n",
            "/usr/local/lib/python3.9/dist-packages/sklearn/neighbors/_classification.py:215: DataConversionWarning: A column-vector y was passed when a 1d array was expected. Please change the shape of y to (n_samples,), for example using ravel().\n",
            "  return self._fit(X, y)\n",
            "/usr/local/lib/python3.9/dist-packages/sklearn/neighbors/_classification.py:215: DataConversionWarning: A column-vector y was passed when a 1d array was expected. Please change the shape of y to (n_samples,), for example using ravel().\n",
            "  return self._fit(X, y)\n",
            "/usr/local/lib/python3.9/dist-packages/sklearn/neighbors/_classification.py:215: DataConversionWarning: A column-vector y was passed when a 1d array was expected. Please change the shape of y to (n_samples,), for example using ravel().\n",
            "  return self._fit(X, y)\n",
            "/usr/local/lib/python3.9/dist-packages/sklearn/neighbors/_classification.py:215: DataConversionWarning: A column-vector y was passed when a 1d array was expected. Please change the shape of y to (n_samples,), for example using ravel().\n",
            "  return self._fit(X, y)\n",
            "/usr/local/lib/python3.9/dist-packages/sklearn/neighbors/_classification.py:215: DataConversionWarning: A column-vector y was passed when a 1d array was expected. Please change the shape of y to (n_samples,), for example using ravel().\n",
            "  return self._fit(X, y)\n",
            "/usr/local/lib/python3.9/dist-packages/sklearn/neighbors/_classification.py:215: DataConversionWarning: A column-vector y was passed when a 1d array was expected. Please change the shape of y to (n_samples,), for example using ravel().\n",
            "  return self._fit(X, y)\n",
            "/usr/local/lib/python3.9/dist-packages/sklearn/neighbors/_classification.py:215: DataConversionWarning: A column-vector y was passed when a 1d array was expected. Please change the shape of y to (n_samples,), for example using ravel().\n",
            "  return self._fit(X, y)\n",
            "/usr/local/lib/python3.9/dist-packages/sklearn/neighbors/_classification.py:215: DataConversionWarning: A column-vector y was passed when a 1d array was expected. Please change the shape of y to (n_samples,), for example using ravel().\n",
            "  return self._fit(X, y)\n"
          ]
        },
        {
          "output_type": "display_data",
          "data": {
            "text/plain": [
              "<Figure size 432x288 with 1 Axes>"
            ],
            "image/png": "[encoded data removed]"
          },
          "metadata": {
            "needs_background": "light"
          }
        }
      ]
    },
    {
      "cell_type": "code",
      "source": [],
      "metadata": {
        "id": "0znpOqWvbJNw"
      },
      "execution_count": null,
      "outputs": []
    }
  ]
}