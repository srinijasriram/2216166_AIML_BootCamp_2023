{
  "nbformat": 4,
  "nbformat_minor": 0,
  "metadata": {
    "colab": {
      "provenance": [],
      "include_colab_link": true
    },
    "kernelspec": {
      "name": "python3",
      "display_name": "Python 3"
    },
    "language_info": {
      "name": "python"
    }
  },
  "cells": [
    {
      "cell_type": "markdown",
      "metadata": {
        "id": "view-in-github",
        "colab_type": "text"
      },
      "source": [
        "<a href=\"https://colab.research.google.com/github/srinijasriram/2216166_AIML_BootCamp_2023/blob/main/Boot_camp_day2.ipynb\" target=\"_parent\"><img src=\"https://colab.research.google.com/assets/colab-badge.svg\" alt=\"Open In Colab\"/></a>"
      ]
    },
    {
      "cell_type": "code",
      "execution_count": null,
      "metadata": {
        "colab": {
          "base_uri": "https://localhost:8080/"
        },
        "id": "X_A8ooy7BJe2",
        "outputId": "1b73d349-a69c-4f0e-b25c-850dee11be3b"
      },
      "outputs": [
        {
          "output_type": "stream",
          "name": "stdout",
          "text": [
            "7\n",
            "-1\n",
            "12\n",
            "0.75\n",
            "0\n",
            "81\n",
            "3\n"
          ]
        }
      ],
      "source": [
        "#operators\n",
        "a=3\n",
        "b=4\n",
        "print(a+b)\n",
        "print(a-b)\n",
        "print(a*b)\n",
        "print(a/b)\n",
        "print(a//b)\n",
        "print(a**b)\n",
        "print(a%b)"
      ]
    },
    {
      "cell_type": "code",
      "source": [
        "#comparision\n",
        "a==b\n",
        "a<=b\n",
        "a>=b\n",
        "a!=b\n",
        "a<b\n",
        "a>b\n",
        "a<<b\n",
        "a>>b"
      ],
      "metadata": {
        "colab": {
          "base_uri": "https://localhost:8080/"
        },
        "id": "hQvMqBOSBaL_",
        "outputId": "b8a50c38-c590-4913-ae1f-8d0715395246"
      },
      "execution_count": null,
      "outputs": [
        {
          "output_type": "execute_result",
          "data": {
            "text/plain": [
              "0"
            ]
          },
          "metadata": {},
          "execution_count": 4
        }
      ]
    },
    {
      "cell_type": "code",
      "source": [
        "#assignment operators\n",
        "a=10\n",
        "b=5\n",
        "c=a+b\n",
        "c-=a\n",
        "print(c)"
      ],
      "metadata": {
        "colab": {
          "base_uri": "https://localhost:8080/"
        },
        "id": "bbv72yPSBaYv",
        "outputId": "98c32f06-85f5-4714-db7a-92fddc1fdc47"
      },
      "execution_count": null,
      "outputs": [
        {
          "output_type": "stream",
          "name": "stdout",
          "text": [
            "5\n"
          ]
        }
      ]
    },
    {
      "cell_type": "code",
      "source": [
        "#logical operators\n",
        "x=True\n",
        "y=False\n",
        "print(\"x and y is:\",x and y)\n",
        "print(\"x or y is:\",x or y)\n",
        "print(\"not y is:\", not y)"
      ],
      "metadata": {
        "colab": {
          "base_uri": "https://localhost:8080/"
        },
        "id": "n4R5BRWwB81y",
        "outputId": "d61e1ef5-a8cc-4377-d842-071ae6c95a5a"
      },
      "execution_count": null,
      "outputs": [
        {
          "output_type": "stream",
          "name": "stdout",
          "text": [
            "x and y is: False\n",
            "x or y is: True\n",
            "not y is: True\n"
          ]
        }
      ]
    },
    {
      "cell_type": "code",
      "source": [
        "#bitwise operators\n",
        "\n",
        "a=13 #0000 1101\n",
        "b=14 #0000 1110\n",
        "\n",
        "print(a&b) #and\n",
        "print(a|b) #or\n",
        "print(~a) #not\n",
        "print(a^b) #xor\n",
        "print(a>>2) #right shift\n",
        "print(a<<2) #left shift"
      ],
      "metadata": {
        "colab": {
          "base_uri": "https://localhost:8080/"
        },
        "id": "lFOH2OlmCing",
        "outputId": "f95b3376-4b4c-41ad-c2b1-49f44f13b1a1"
      },
      "execution_count": null,
      "outputs": [
        {
          "output_type": "stream",
          "name": "stdout",
          "text": [
            "12\n",
            "15\n",
            "-14\n",
            "3\n",
            "3\n",
            "52\n"
          ]
        }
      ]
    },
    {
      "cell_type": "code",
      "source": [
        "#membership operators in, not in\n",
        "a=\"hello\"\n",
        "print(\"o\" in a)\n",
        "print(\"x\" not in a)\n"
      ],
      "metadata": {
        "colab": {
          "base_uri": "https://localhost:8080/"
        },
        "id": "C5vlJac9DfIK",
        "outputId": "9d6c66c9-0578-451f-f4a7-4f656eeb2af1"
      },
      "execution_count": null,
      "outputs": [
        {
          "output_type": "stream",
          "name": "stdout",
          "text": [
            "True\n",
            "True\n"
          ]
        }
      ]
    },
    {
      "cell_type": "code",
      "source": [
        "#identity operators is, is not\n",
        "x1=5\n",
        "y1=5\n",
        "x2=\"hello\"\n",
        "y2=\"hello\"\n",
        "x3=[1,2,3]\n",
        "y3=[1,2,3]\n",
        "print(x1 is not y1)\n",
        "print(x2 is y2)\n",
        "print(x3 is y3)"
      ],
      "metadata": {
        "colab": {
          "base_uri": "https://localhost:8080/"
        },
        "id": "zpxbLXsIFJYo",
        "outputId": "26c4c0c1-d23e-4f42-a23a-86337066108d"
      },
      "execution_count": null,
      "outputs": [
        {
          "output_type": "stream",
          "name": "stdout",
          "text": [
            "False\n",
            "True\n",
            "False\n"
          ]
        }
      ]
    },
    {
      "cell_type": "code",
      "source": [
        "#input\n",
        "a=int(input(\"enter a number\"))\n",
        "print(a)\n",
        "b=input(\"enter string\")\n",
        "print(b)"
      ],
      "metadata": {
        "colab": {
          "base_uri": "https://localhost:8080/"
        },
        "id": "SbzxvghPGQj5",
        "outputId": "234d937d-598d-4d81-b3af-72e4e13b72ec"
      },
      "execution_count": null,
      "outputs": [
        {
          "output_type": "stream",
          "name": "stdout",
          "text": [
            "enter a number4\n",
            "4\n",
            "enter stringhello\n",
            "hello\n"
          ]
        }
      ]
    },
    {
      "cell_type": "code",
      "source": [
        "#string is sequence of characters\n",
        "str=\"Gradsteller\"\n",
        "#indexing\n",
        "print(str[0])\n",
        "print(str[-1])"
      ],
      "metadata": {
        "colab": {
          "base_uri": "https://localhost:8080/"
        },
        "id": "kBAPFXH3G3Ge",
        "outputId": "26b8c477-cf6d-4ab8-a0aa-8d0388f42a22"
      },
      "execution_count": null,
      "outputs": [
        {
          "output_type": "stream",
          "name": "stdout",
          "text": [
            "G\n",
            "r\n"
          ]
        }
      ]
    },
    {
      "cell_type": "code",
      "source": [
        "#slicing\n",
        "#[from:to(n-1):step]\n",
        "print(str[0:7:2])"
      ],
      "metadata": {
        "colab": {
          "base_uri": "https://localhost:8080/"
        },
        "id": "n82R0mpYHUP9",
        "outputId": "34af03fc-8999-46ae-fd1b-175056559624"
      },
      "execution_count": null,
      "outputs": [
        {
          "output_type": "stream",
          "name": "stdout",
          "text": [
            "Gase\n"
          ]
        }
      ]
    },
    {
      "cell_type": "code",
      "source": [
        "#reverse of a string\n",
        "print(str[::-1])"
      ],
      "metadata": {
        "colab": {
          "base_uri": "https://localhost:8080/"
        },
        "id": "okQ__iNdIAo1",
        "outputId": "bc38bc9a-bb91-4f2e-fbee-a81f0d2caec7"
      },
      "execution_count": null,
      "outputs": [
        {
          "output_type": "stream",
          "name": "stdout",
          "text": [
            "relletsdarG\n"
          ]
        }
      ]
    },
    {
      "cell_type": "code",
      "source": [
        "#string methods\n",
        "dir(str)"
      ],
      "metadata": {
        "colab": {
          "base_uri": "https://localhost:8080/"
        },
        "id": "27psai-MIagm",
        "outputId": "20160e52-0a40-4150-d8f8-e1adb02a4968"
      },
      "execution_count": null,
      "outputs": [
        {
          "output_type": "execute_result",
          "data": {
            "text/plain": [
              "['__add__',\n",
              " '__class__',\n",
              " '__contains__',\n",
              " '__delattr__',\n",
              " '__dir__',\n",
              " '__doc__',\n",
              " '__eq__',\n",
              " '__format__',\n",
              " '__ge__',\n",
              " '__getattribute__',\n",
              " '__getitem__',\n",
              " '__getnewargs__',\n",
              " '__gt__',\n",
              " '__hash__',\n",
              " '__init__',\n",
              " '__init_subclass__',\n",
              " '__iter__',\n",
              " '__le__',\n",
              " '__len__',\n",
              " '__lt__',\n",
              " '__mod__',\n",
              " '__mul__',\n",
              " '__ne__',\n",
              " '__new__',\n",
              " '__reduce__',\n",
              " '__reduce_ex__',\n",
              " '__repr__',\n",
              " '__rmod__',\n",
              " '__rmul__',\n",
              " '__setattr__',\n",
              " '__sizeof__',\n",
              " '__str__',\n",
              " '__subclasshook__',\n",
              " 'capitalize',\n",
              " 'casefold',\n",
              " 'center',\n",
              " 'count',\n",
              " 'encode',\n",
              " 'endswith',\n",
              " 'expandtabs',\n",
              " 'find',\n",
              " 'format',\n",
              " 'format_map',\n",
              " 'index',\n",
              " 'isalnum',\n",
              " 'isalpha',\n",
              " 'isascii',\n",
              " 'isdecimal',\n",
              " 'isdigit',\n",
              " 'isidentifier',\n",
              " 'islower',\n",
              " 'isnumeric',\n",
              " 'isprintable',\n",
              " 'isspace',\n",
              " 'istitle',\n",
              " 'isupper',\n",
              " 'join',\n",
              " 'ljust',\n",
              " 'lower',\n",
              " 'lstrip',\n",
              " 'maketrans',\n",
              " 'partition',\n",
              " 'replace',\n",
              " 'rfind',\n",
              " 'rindex',\n",
              " 'rjust',\n",
              " 'rpartition',\n",
              " 'rsplit',\n",
              " 'rstrip',\n",
              " 'split',\n",
              " 'splitlines',\n",
              " 'startswith',\n",
              " 'strip',\n",
              " 'swapcase',\n",
              " 'title',\n",
              " 'translate',\n",
              " 'upper',\n",
              " 'zfill']"
            ]
          },
          "metadata": {},
          "execution_count": 17
        }
      ]
    },
    {
      "cell_type": "code",
      "source": [
        "s=\"    Hello    \"\n",
        "print(s.upper())\n",
        "print(s.lower())\n",
        "print(s.swapcase())\n",
        "print(s.strip())"
      ],
      "metadata": {
        "colab": {
          "base_uri": "https://localhost:8080/"
        },
        "id": "6jj-JJJGJWK9",
        "outputId": "b2066fac-6bc0-4ca6-d9aa-00b7f46dac13"
      },
      "execution_count": null,
      "outputs": [
        {
          "output_type": "stream",
          "name": "stdout",
          "text": [
            "    HELLO    \n",
            "    hello    \n",
            "    hELLO    \n",
            "Hello\n"
          ]
        }
      ]
    },
    {
      "cell_type": "code",
      "source": [
        "#string operation\n",
        "s1=\"world\"\n",
        "print(s+s1)\n",
        "print(s*2)"
      ],
      "metadata": {
        "colab": {
          "base_uri": "https://localhost:8080/"
        },
        "id": "3k6yTLtsJqrR",
        "outputId": "be9029cb-5323-4160-94c0-ba1b2bb8cf87"
      },
      "execution_count": null,
      "outputs": [
        {
          "output_type": "stream",
          "name": "stdout",
          "text": [
            "    Hello    world\n",
            "    Hello        Hello    \n"
          ]
        }
      ]
    },
    {
      "cell_type": "code",
      "source": [
        "#string formate\n",
        "name=\"srinija\"\n",
        "language=\"python\"\n",
        "year=2023\n",
        "print(name,\"is learning \",language,\"programming in \",year)\n",
        "#format\n",
        "print(\"{} is learning {} programming in {}\".format(name,language,year))\n",
        "#place holder %\n",
        "print(\"%s is learning %s programming in %d\"%(name,language,year))\n",
        "# rawstring f\n",
        "print(f\"{name} is learning {language} programming in {year}\")"
      ],
      "metadata": {
        "colab": {
          "base_uri": "https://localhost:8080/"
        },
        "id": "1PpiHnSCKLq7",
        "outputId": "083a32dd-3f2f-47e9-ea3b-39af9be1b0d6"
      },
      "execution_count": null,
      "outputs": [
        {
          "output_type": "stream",
          "name": "stdout",
          "text": [
            "srinija is learning  python programming in  2023\n",
            "srinija is learning python programming in 2023\n",
            "srinija is learning python programming in 2023\n",
            "srinija is learning python programming in 2023\n"
          ]
        }
      ]
    },
    {
      "cell_type": "code",
      "source": [
        "#list\n",
        "l=[1,2,3,4]\n",
        "l1=[1,\"hello\",7.8]\n",
        "l2=[\"apple\",\"banana\",\"mango\"]\n",
        "#indexing\n",
        "print(l[0])\n",
        "print(l1[-1])\n",
        "\n",
        "#slicing\n",
        "print(l2[:2])\n",
        "\n",
        "#nested list\n",
        "l3=[1,2,3,[1,\"hello\",7.8,[\"apple\",\"banana\",\"mango\"]]]\n",
        "l4=[l1,l,l2,l3]\n",
        "print(l4)\n",
        "l5=[\"dragonfruit\",l,l1]\n",
        "print(l5)\n",
        "print(l5[0][0:6])\n",
        "print(l5[2][1][:1])"
      ],
      "metadata": {
        "colab": {
          "base_uri": "https://localhost:8080/"
        },
        "id": "pIACXGPzMjSS",
        "outputId": "1a97e011-3773-4b17-e935-c2c2a0889cc7"
      },
      "execution_count": null,
      "outputs": [
        {
          "output_type": "stream",
          "name": "stdout",
          "text": [
            "1\n",
            "7.8\n",
            "['apple', 'banana']\n",
            "[[1, 'hello', 7.8], [1, 2, 3, 4], ['apple', 'banana', 'mango'], [1, 2, 3, [1, 'hello', 7.8, ['apple', 'banana', 'mango']]]]\n",
            "['dragonfruit', [1, 2, 3, 4], [1, 'hello', 7.8]]\n",
            "dragon\n",
            "h\n"
          ]
        }
      ]
    },
    {
      "cell_type": "code",
      "source": [
        "#list methods\n",
        "l.append(5)\n",
        "print(l)\n",
        "print(l.count(5))\n",
        "print(l[::-1])\n",
        "l.reverse()\n",
        "print(l)\n",
        "l.sort()\n",
        "print(l)\n",
        "#dir(list)"
      ],
      "metadata": {
        "colab": {
          "base_uri": "https://localhost:8080/"
        },
        "id": "Vy7696t5Q5BO",
        "outputId": "18318d43-579b-4469-a9ca-57480811aeea"
      },
      "execution_count": null,
      "outputs": [
        {
          "output_type": "stream",
          "name": "stdout",
          "text": [
            "[1, 2, 3, 4, 5, 5, 5]\n",
            "3\n",
            "[5, 5, 5, 4, 3, 2, 1]\n",
            "[5, 5, 5, 4, 3, 2, 1]\n",
            "[1, 2, 3, 4, 5, 5, 5]\n"
          ]
        }
      ]
    }
  ]
}