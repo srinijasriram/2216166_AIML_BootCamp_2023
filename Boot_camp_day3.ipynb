{
  "nbformat": 4,
  "nbformat_minor": 0,
  "metadata": {
    "colab": {
      "provenance": [],
      "authorship_tag": "ABX9TyNctqwQl5hH4GquqSAT8TH7",
      "include_colab_link": true
    },
    "kernelspec": {
      "name": "python3",
      "display_name": "Python 3"
    },
    "language_info": {
      "name": "python"
    }
  },
  "cells": [
    {
      "cell_type": "markdown",
      "metadata": {
        "id": "view-in-github",
        "colab_type": "text"
      },
      "source": [
        "<a href=\"https://colab.research.google.com/github/srinijasriram/2216166_AIML_BootCamp_2023/blob/main/Boot_camp_day3.ipynb\" target=\"_parent\"><img src=\"https://colab.research.google.com/assets/colab-badge.svg\" alt=\"Open In Colab\"/></a>"
      ]
    },
    {
      "cell_type": "code",
      "execution_count": null,
      "metadata": {
        "colab": {
          "base_uri": "https://localhost:8080/"
        },
        "id": "1rUXGi3pKua4",
        "outputId": "b8328aea-ccad-4ee3-fc26-9d3fe6dbcb0d"
      },
      "outputs": [
        {
          "output_type": "stream",
          "name": "stdout",
          "text": [
            "4\n",
            "1\n",
            "1\n",
            "4\n",
            "1\n",
            "3\n"
          ]
        }
      ],
      "source": [
        "#tuples\n",
        "t=(1,2,3,4)\n",
        "t1=(\"hi\",1,1,5)\n",
        "t2=(\"hello\",t,t1)\n",
        "print(t2[1][-1])\n",
        "\n",
        "#tuples methods\n",
        "print(t.count(2))\n",
        "print(t.index(2))\n",
        "print(max(t))\n",
        "print(min(t))\n",
        "print(len(t2))"
      ]
    },
    {
      "cell_type": "code",
      "source": [
        "#sets\n",
        "l=[1,2,3,4]\n",
        "s=set(l)\n",
        "print(s)\n",
        "\n",
        "#set methods\n",
        "s.add(5)\n",
        "print(s)\n",
        "s.update([5,6])\n",
        "print(s)\n",
        "s.remove(3)\n",
        "print(s)"
      ],
      "metadata": {
        "colab": {
          "base_uri": "https://localhost:8080/"
        },
        "id": "NXjWN9UlN6GG",
        "outputId": "e46fe65b-a177-4a8a-88de-aa332a3afd00"
      },
      "execution_count": null,
      "outputs": [
        {
          "output_type": "stream",
          "name": "stdout",
          "text": [
            "{1, 2, 3, 4}\n",
            "{1, 2, 3, 4, 5}\n",
            "{1, 2, 3, 4, 5, 6}\n",
            "{1, 2, 4, 5, 6}\n"
          ]
        }
      ]
    },
    {
      "cell_type": "code",
      "source": [
        "#set operations\n",
        "a={1,2,3,4}\n",
        "b={5,6,7,8}\n",
        "\n",
        "#union\n",
        "print(a|b)\n",
        "print(a.union(b))\n",
        "print(b.union(a))\n",
        "\n",
        "#intersection\n",
        "print(a&b)\n",
        "print(a.intersection(b))\n",
        "print(b.intersection(a))\n",
        "\n",
        "#difference\n",
        "print(a-b)\n",
        "print(b-a)\n",
        "print(a.difference(b))\n",
        "print(b.difference(a))"
      ],
      "metadata": {
        "id": "ReIxwIZoQ0tD",
        "colab": {
          "base_uri": "https://localhost:8080/"
        },
        "outputId": "bde5ad76-a39c-4673-a0b1-0188c2c27c4f"
      },
      "execution_count": 2,
      "outputs": [
        {
          "output_type": "stream",
          "name": "stdout",
          "text": [
            "{1, 2, 3, 4, 5, 6, 7, 8}\n",
            "{1, 2, 3, 4, 5, 6, 7, 8}\n",
            "{1, 2, 3, 4, 5, 6, 7, 8}\n",
            "set()\n",
            "set()\n",
            "set()\n",
            "{1, 2, 3, 4}\n",
            "{8, 5, 6, 7}\n",
            "{1, 2, 3, 4}\n",
            "{8, 5, 6, 7}\n"
          ]
        }
      ]
    },
    {
      "cell_type": "code",
      "source": [
        "#dictionaries\n",
        "d={'name':'grad',1:'one','two':2}\n",
        "print(d['name'])"
      ],
      "metadata": {
        "id": "6LcfVOLXRLEP",
        "colab": {
          "base_uri": "https://localhost:8080/"
        },
        "outputId": "0818ddcd-7ae9-43e5-bd82-ef7c233b55cb"
      },
      "execution_count": 4,
      "outputs": [
        {
          "output_type": "stream",
          "name": "stdout",
          "text": [
            "grad\n"
          ]
        }
      ]
    },
    {
      "cell_type": "code",
      "source": [],
      "metadata": {
        "id": "OOpDwguV4_Vr"
      },
      "execution_count": null,
      "outputs": []
    }
  ]
}