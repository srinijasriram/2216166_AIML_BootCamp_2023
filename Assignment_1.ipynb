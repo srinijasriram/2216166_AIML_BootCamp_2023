{
  "nbformat": 4,
  "nbformat_minor": 0,
  "metadata": {
    "colab": {
      "provenance": [],
      "authorship_tag": "ABX9TyPRs88rMh7OWSGL2sJ9LSBx",
      "include_colab_link": true
    },
    "kernelspec": {
      "name": "python3",
      "display_name": "Python 3"
    },
    "language_info": {
      "name": "python"
    }
  },
  "cells": [
    {
      "cell_type": "markdown",
      "metadata": {
        "id": "view-in-github",
        "colab_type": "text"
      },
      "source": [
        "<a href=\"https://colab.research.google.com/github/srinijasriram/2216166_AIML_BootCamp_2023/blob/main/Assignment_1.ipynb\" target=\"_parent\"><img src=\"https://colab.research.google.com/assets/colab-badge.svg\" alt=\"Open In Colab\"/></a>"
      ]
    },
    {
      "cell_type": "code",
      "execution_count": 1,
      "metadata": {
        "colab": {
          "base_uri": "https://localhost:8080/"
        },
        "id": "rXqzFv4-5-d2",
        "outputId": "3240e42f-9f92-4ca2-973b-bdb342de5369"
      },
      "outputs": [
        {
          "output_type": "stream",
          "name": "stdout",
          "text": [
            "    HELLO    \n",
            "    hello    \n",
            "    hELLO    \n",
            "Hello\n"
          ]
        }
      ],
      "source": [
        "#string methods\n",
        "s=\"    Hello    \"\n",
        "print(s.upper())\n",
        "print(s.lower())\n",
        "print(s.swapcase())\n",
        "print(s.strip())"
      ]
    },
    {
      "cell_type": "code",
      "source": [
        "#list methods\n",
        "l=[1,2,3,4]\n",
        "print(l)\n",
        "#appending\n",
        "l.append(5)\n",
        "print(l)\n",
        "#reversing\n",
        "l.reverse()\n",
        "print(l)\n",
        "#count a item\n",
        "print(l.count(3))\n",
        "#sorting\n",
        "l.sort()\n",
        "print(l)\n",
        "#dir(list)\n",
        "#pop -- removing\n",
        "l.pop()\n",
        "print(l)\n",
        "#removing\n",
        "l.remove(2)\n",
        "print(l)\n",
        "#inserting at specified index\n",
        "l.insert(0,7)\n",
        "print(l)\n",
        "#index\n",
        "print(l.index(3))"
      ],
      "metadata": {
        "colab": {
          "base_uri": "https://localhost:8080/"
        },
        "id": "AZb6GmMVACqx",
        "outputId": "6a8e4644-d7d6-40b2-dfb9-c9fd83010ba5"
      },
      "execution_count": 29,
      "outputs": [
        {
          "output_type": "stream",
          "name": "stdout",
          "text": [
            "[1, 2, 3, 4]\n",
            "[1, 2, 3, 4, 5]\n",
            "[5, 4, 3, 2, 1]\n",
            "1\n",
            "[1, 2, 3, 4, 5]\n",
            "[1, 2, 3, 4]\n",
            "[1, 3, 4]\n",
            "[7, 1, 3, 4]\n",
            "2\n"
          ]
        }
      ]
    },
    {
      "cell_type": "code",
      "source": [
        "#tuple\n",
        "#dir(tuple)\n",
        "t=(1,2,3,5)\n",
        "print(t.count(3))\n",
        "print(t.index(3))\n"
      ],
      "metadata": {
        "colab": {
          "base_uri": "https://localhost:8080/"
        },
        "id": "Spg6b9j5AC__",
        "outputId": "271b11d8-8acc-4a11-fa7d-fbc215d09d4d"
      },
      "execution_count": 28,
      "outputs": [
        {
          "output_type": "stream",
          "name": "stdout",
          "text": [
            "1\n",
            "2\n"
          ]
        }
      ]
    },
    {
      "cell_type": "code",
      "source": [
        "#dictionary\n",
        "\n",
        "d={1:'one','two':2,3:3}\n",
        "d1={}\n",
        "d1=d.copy()\n",
        "print(d1)\n",
        "print(d.get(3))\n",
        "print(d.items())\n",
        "print(d.keys())\n",
        "print(d.values())\n",
        "d.update({2:'two'})\n",
        "print(d)"
      ],
      "metadata": {
        "colab": {
          "base_uri": "https://localhost:8080/"
        },
        "id": "c9AIkEI8ADPK",
        "outputId": "e384e774-e61f-449b-e8ae-e0aa0a3105ed"
      },
      "execution_count": 39,
      "outputs": [
        {
          "output_type": "stream",
          "name": "stdout",
          "text": [
            "{1: 'one', 'two': 2, 3: 3}\n",
            "3\n",
            "dict_items([(1, 'one'), ('two', 2), (3, 3)])\n",
            "dict_keys([1, 'two', 3])\n",
            "dict_values(['one', 2, 3])\n",
            "{1: 'one', 'two': 2, 3: 3, 2: 'two'}\n"
          ]
        }
      ]
    },
    {
      "cell_type": "code",
      "source": [
        "#set\n",
        "dir(set)\n",
        "s={1,2,3,4}\n",
        "print(s)\n",
        "#set add method\n",
        "s.add(5)\n",
        "print(s)\n",
        "#copy\n",
        "s1=s.copy()\n",
        "print(s1)\n",
        "#add\n",
        "s1.add(6)\n",
        "# s union s1\n",
        "print(s.union(s1))\n",
        "#s intersection s1\n",
        "print(s.intersection(s1))\n",
        "#s1 difference s\n",
        "print(s1.difference(s))\n",
        "# discard\n",
        "s.discard(2)\n",
        "print(s)\n",
        "#pop\n",
        "s.pop()\n",
        "print(s)\n",
        "#remove\n",
        "s.remove(3)\n",
        "print(s)\n",
        "#update\n",
        "s.update('8')\n",
        "print(s)"
      ],
      "metadata": {
        "colab": {
          "base_uri": "https://localhost:8080/"
        },
        "id": "8FSJxUQ5AEM1",
        "outputId": "162934c0-2e80-4f98-8a62-7247bb37e77f"
      },
      "execution_count": 48,
      "outputs": [
        {
          "output_type": "stream",
          "name": "stdout",
          "text": [
            "{1, 2, 3, 4}\n",
            "{1, 2, 3, 4, 5}\n",
            "{1, 2, 3, 4, 5}\n",
            "{1, 2, 3, 4, 5, 6}\n",
            "{1, 2, 3, 4, 5}\n",
            "{6}\n",
            "{1, 3, 4, 5}\n",
            "{3, 4, 5}\n",
            "{4, 5}\n",
            "{4, 5, '8'}\n"
          ]
        }
      ]
    },
    {
      "cell_type": "code",
      "source": [
        "# decimal to binary\n",
        "a=3\n",
        "print(bin(a))\n",
        "#decimal to octal\n",
        "print(oct(a))\n",
        "#decimal to hexadecimal\n",
        "print(hex(a))"
      ],
      "metadata": {
        "colab": {
          "base_uri": "https://localhost:8080/"
        },
        "id": "e_BvOhv8_lJb",
        "outputId": "dd1845df-056b-4c42-d973-94bc46c49e3c"
      },
      "execution_count": 22,
      "outputs": [
        {
          "output_type": "stream",
          "name": "stdout",
          "text": [
            "0b11\n",
            "0o3\n",
            "0x3\n"
          ]
        }
      ]
    },
    {
      "cell_type": "code",
      "source": [
        "#Arithmetic operators\n",
        "a=8\n",
        "b=4\n",
        "print(a+b)\n",
        "print(a-b)\n",
        "print(a*b)\n",
        "print(a/b)\n",
        "print(a//b)\n",
        "print(a**b)\n",
        "print(a%b)"
      ],
      "metadata": {
        "colab": {
          "base_uri": "https://localhost:8080/"
        },
        "id": "zg7De0w-6mGh",
        "outputId": "e6ceab9c-de26-4d2d-d4a0-f118575d9824"
      },
      "execution_count": 4,
      "outputs": [
        {
          "output_type": "stream",
          "name": "stdout",
          "text": [
            "12\n",
            "4\n",
            "32\n",
            "2.0\n",
            "2\n",
            "4096\n",
            "0\n"
          ]
        }
      ]
    },
    {
      "cell_type": "code",
      "source": [
        "#assignment operators\n",
        "a=10\n",
        "b=5\n",
        "c=a+b\n",
        "c-=a\n",
        "print(c)"
      ],
      "metadata": {
        "colab": {
          "base_uri": "https://localhost:8080/"
        },
        "id": "m3z4BxZR7V_X",
        "outputId": "314b6c34-b1ed-498a-d95b-e85d7d834428"
      },
      "execution_count": 6,
      "outputs": [
        {
          "output_type": "stream",
          "name": "stdout",
          "text": [
            "5\n"
          ]
        }
      ]
    },
    {
      "cell_type": "code",
      "source": [
        "#comparision operators\n",
        "a=3\n",
        "b=5\n",
        "print(a==b)\n",
        "print(a<=b)\n",
        "print(a>=b)\n",
        "print(a!=b)\n",
        "print(a<b)\n",
        "print(a>b)\n",
        "print(a<<b)\n",
        "print(a>>b)"
      ],
      "metadata": {
        "colab": {
          "base_uri": "https://localhost:8080/"
        },
        "id": "e77SkeMI6mcq",
        "outputId": "8db666e3-d387-4feb-fa12-aa59c9b62589"
      },
      "execution_count": 5,
      "outputs": [
        {
          "output_type": "stream",
          "name": "stdout",
          "text": [
            "False\n",
            "True\n",
            "False\n",
            "True\n",
            "True\n",
            "False\n",
            "96\n",
            "0\n"
          ]
        }
      ]
    },
    {
      "cell_type": "code",
      "source": [
        "#logical operators\n",
        "x=True\n",
        "y=False\n",
        "print(\"x and y is:\",x and y)\n",
        "print(\"x or y is:\",x or y)\n",
        "print(\"not y is:\", not y)"
      ],
      "metadata": {
        "colab": {
          "base_uri": "https://localhost:8080/"
        },
        "id": "yCW-yENn7iTG",
        "outputId": "4ac1ca33-4c22-4d98-874f-d6786d1bfb75"
      },
      "execution_count": 7,
      "outputs": [
        {
          "output_type": "stream",
          "name": "stdout",
          "text": [
            "x and y is: False\n",
            "x or y is: True\n",
            "not y is: True\n"
          ]
        }
      ]
    },
    {
      "cell_type": "code",
      "source": [
        "#bitwise operators\n",
        "\n",
        "a=13 #0000 1101\n",
        "b=14 #0000 1110\n",
        "\n",
        "print(a&b) #and\n",
        "print(a|b) #or\n",
        "print(~a) #not\n",
        "print(a^b) #xor\n",
        "print(a>>2) #right shift\n",
        "print(a<<2) #left shift"
      ],
      "metadata": {
        "colab": {
          "base_uri": "https://localhost:8080/"
        },
        "id": "1PmYrVcO7vFM",
        "outputId": "c3b71784-3ea1-4ff8-a492-fbeee533e5bc"
      },
      "execution_count": 8,
      "outputs": [
        {
          "output_type": "stream",
          "name": "stdout",
          "text": [
            "12\n",
            "15\n",
            "-14\n",
            "3\n",
            "3\n",
            "52\n"
          ]
        }
      ]
    },
    {
      "cell_type": "code",
      "source": [
        "#membership operators in, not in\n",
        "a=\"hello\"\n",
        "print(\"o\" in a)\n",
        "print(\"x\" not in a)\n"
      ],
      "metadata": {
        "colab": {
          "base_uri": "https://localhost:8080/"
        },
        "id": "HyFkRmpN7zq_",
        "outputId": "d0b332bf-4808-4077-ea2e-68cf5a954253"
      },
      "execution_count": 9,
      "outputs": [
        {
          "output_type": "stream",
          "name": "stdout",
          "text": [
            "True\n",
            "True\n"
          ]
        }
      ]
    },
    {
      "cell_type": "code",
      "source": [
        "#identity operators is, is not\n",
        "x1=5\n",
        "y1=5\n",
        "x2=\"hello\"\n",
        "y2=\"hello\"\n",
        "x3=[1,2,3]\n",
        "y3=[1,2,3]\n",
        "print(x1 is not y1)\n",
        "print(x2 is y2)\n",
        "print(x3 is y3)"
      ],
      "metadata": {
        "colab": {
          "base_uri": "https://localhost:8080/"
        },
        "id": "q3ps-OR074H5",
        "outputId": "d94dd6f9-59d2-4a2f-86ae-1100674d4371"
      },
      "execution_count": 10,
      "outputs": [
        {
          "output_type": "stream",
          "name": "stdout",
          "text": [
            "False\n",
            "True\n",
            "False\n"
          ]
        }
      ]
    },
    {
      "cell_type": "code",
      "source": [
        "#demonstrating negative indexing for list and apply slicing to list\n",
        "l=[1,2,3,4]\n",
        "print(l[::-1]) #it prints in reverse order of list\n",
        "print(l[-1::-2]) #it prints the list in reverse order with step value as 2 i.e., 4,2"
      ],
      "metadata": {
        "colab": {
          "base_uri": "https://localhost:8080/"
        },
        "id": "jKE00-ZQ7-hS",
        "outputId": "20c044dc-82c4-422f-f366-0d866af36a9b"
      },
      "execution_count": 12,
      "outputs": [
        {
          "output_type": "stream",
          "name": "stdout",
          "text": [
            "[4, 3, 2, 1]\n",
            "[4, 2]\n"
          ]
        }
      ]
    },
    {
      "cell_type": "code",
      "source": [
        "print('A series of characters designated as one object known as string'[::-1][4::3]) # after reversing the string [4::3] slicing is applied\n",
        "print(\"----------------\")\n",
        "print('Welcome to python program'[3:10][::-1]) # for [3:10] which is \"come to \" [::-1]slicing is applied"
      ],
      "metadata": {
        "colab": {
          "base_uri": "https://localhost:8080/"
        },
        "id": "mrGDLiw18nq9",
        "outputId": "2a37de38-5ac3-4fe5-9050-89e9e4919edd"
      },
      "execution_count": 14,
      "outputs": [
        {
          "output_type": "stream",
          "name": "stdout",
          "text": [
            "tsnntj oaens eahfsr \n",
            "----------------\n",
            "ot emoc\n"
          ]
        }
      ]
    },
    {
      "cell_type": "code",
      "source": [
        "p_phrase=\"was it a car or a cat I saw\"\n",
        "print(p_phrase[::-1].upper()) #prints WAS I TAC A RO RAC A TI SAW"
      ],
      "metadata": {
        "colab": {
          "base_uri": "https://localhost:8080/"
        },
        "id": "rL7bfTSK98G6",
        "outputId": "84433ea1-04fe-42d8-9209-84156354e821"
      },
      "execution_count": 16,
      "outputs": [
        {
          "output_type": "stream",
          "name": "stdout",
          "text": [
            "WAS I TAC A RO RAC A TI SAW\n"
          ]
        }
      ]
    },
    {
      "cell_type": "code",
      "source": [
        "#zoo\n",
        "x=2\n",
        "y=2*x\n",
        "print('z'*x+'o'*y) # output is zzoooo\n",
        "x=5\n",
        "y=2*x\n",
        "print('z'*x+'o'*y) #output is zzzzzoooooooooo"
      ],
      "metadata": {
        "colab": {
          "base_uri": "https://localhost:8080/"
        },
        "id": "qP33PIuO-bxp",
        "outputId": "68382aa3-f195-42f7-da57-104b6df80e4e"
      },
      "execution_count": 19,
      "outputs": [
        {
          "output_type": "stream",
          "name": "stdout",
          "text": [
            "zzoooo\n",
            "zzzzzoooooooooo\n"
          ]
        }
      ]
    }
  ]
}