{
  "nbformat": 4,
  "nbformat_minor": 0,
  "metadata": {
    "colab": {
      "provenance": [],
      "authorship_tag": "ABX9TyPQYVLYPxxpaUEJPIu6dxN0",
      "include_colab_link": true
    },
    "kernelspec": {
      "name": "python3",
      "display_name": "Python 3"
    },
    "language_info": {
      "name": "python"
    }
  },
  "cells": [
    {
      "cell_type": "markdown",
      "metadata": {
        "id": "view-in-github",
        "colab_type": "text"
      },
      "source": [
        "<a href=\"https://colab.research.google.com/github/srinijasriram/2216166_AIML_BootCamp_2023/blob/main/Boot_camp_day4.ipynb\" target=\"_parent\"><img src=\"https://colab.research.google.com/assets/colab-badge.svg\" alt=\"Open In Colab\"/></a>"
      ]
    },
    {
      "cell_type": "code",
      "execution_count": null,
      "metadata": {
        "colab": {
          "base_uri": "https://localhost:8080/"
        },
        "id": "ZvMN9tqJdFMT",
        "outputId": "13b4acb7-31ee-49c6-b018-620e67840f9a"
      },
      "outputs": [
        {
          "output_type": "stream",
          "name": "stdout",
          "text": [
            "simple if\n",
            "TRUE\n",
            "100\n",
            "if else\n",
            "TRUE\n",
            "100\n",
            "nested if\n",
            "enter the age4\n",
            "age is less than 18\n",
            "b is large\n"
          ]
        }
      ],
      "source": [
        "#decision making\n",
        "\n",
        "#if statement\n",
        "a=100\n",
        "if a>0:\n",
        "  print(\"simple if\")\n",
        "  print(\"TRUE\")\n",
        "  print(a)\n",
        "\n",
        "#if else statements\n",
        "if a>0:\n",
        "  print(\"if else\")\n",
        "  print(\"TRUE\")\n",
        "  print(a)\n",
        "else:\n",
        "  print(\"FAlSE\")\n",
        "\n",
        "#nested if statements\n",
        "print(\"nested if\")\n",
        "age=int(input(\"enter the age\"))\n",
        "if age>18:\n",
        "  if age<60:\n",
        "    print(\"age is less than 60\")\n",
        "  print(\"age is greater thane 18\")\n",
        "else:\n",
        "  print(\"age is less than 18\")\n",
        "\n",
        "#if ladder\n",
        "a=2\n",
        "b=3\n",
        "c=1\n",
        "if a>b and a>c:\n",
        "  print(\"a is large\")\n",
        "elif b>a and b>c:\n",
        "  print(\"b is large\")\n",
        "elif c>a and c>b:\n",
        "  print(\"c is large\")\n",
        "  \n"
      ]
    },
    {
      "cell_type": "code",
      "source": [
        "#loops\n",
        "n=[1,2,3,4,5,6,7,8,9,10]\n",
        "#for loop   it does not check the condition but known no.of iteration\n",
        "for i in n:\n",
        "  print(i)\n",
        "sum=0\n",
        "for i in n:\n",
        "  sum+=i\n",
        "print(\"the sum is \",sum)"
      ],
      "metadata": {
        "colab": {
          "base_uri": "https://localhost:8080/"
        },
        "id": "ASlTES3BhHYB",
        "outputId": "fa7260c2-e815-4564-fb2b-8ebb9dcfe59b"
      },
      "execution_count": null,
      "outputs": [
        {
          "output_type": "stream",
          "name": "stdout",
          "text": [
            "1\n",
            "2\n",
            "3\n",
            "4\n",
            "5\n",
            "6\n",
            "7\n",
            "8\n",
            "9\n",
            "10\n",
            "the sum is  55\n"
          ]
        }
      ]
    },
    {
      "cell_type": "code",
      "source": [
        "#while loop   it checks the condition to iterate\n",
        "n=10\n",
        "i=1\n",
        "while(i<10):\n",
        "  print(i)\n",
        "  i+=1"
      ],
      "metadata": {
        "colab": {
          "base_uri": "https://localhost:8080/"
        },
        "id": "kNpoZnTmiEGZ",
        "outputId": "0fde2143-f26a-49c3-9e5b-2bac9468598e"
      },
      "execution_count": null,
      "outputs": [
        {
          "output_type": "stream",
          "name": "stdout",
          "text": [
            "1\n",
            "2\n",
            "3\n",
            "4\n",
            "5\n",
            "6\n",
            "7\n",
            "8\n",
            "9\n"
          ]
        }
      ]
    },
    {
      "cell_type": "code",
      "source": [
        "#nested for loop\n",
        "a=[[1,2,3],[4,5,6],[7,8,9]]\n",
        "b=[[1,2,3],[4,5,6],[7,8,9]]\n",
        "res=[[0,0,0],[0,0,0],[0,0,0]]\n",
        "for i in range(3):\n",
        "  for j in range(3):\n",
        "    res[i][j]=a[i][j]+b[i][j]\n",
        "print(res)\n",
        "for i in res:\n",
        "  print(i)"
      ],
      "metadata": {
        "colab": {
          "base_uri": "https://localhost:8080/"
        },
        "id": "5mZUeDTpiysL",
        "outputId": "456e4be6-8990-4797-9d37-cfbe35dd2f6f"
      },
      "execution_count": null,
      "outputs": [
        {
          "output_type": "stream",
          "name": "stdout",
          "text": [
            "[[2, 4, 6], [8, 10, 12], [14, 16, 18]]\n",
            "[2, 4, 6]\n",
            "[8, 10, 12]\n",
            "[14, 16, 18]\n"
          ]
        }
      ]
    },
    {
      "cell_type": "code",
      "source": [
        "#nested while loop\n",
        "n=int(input(\"enter until which table do you need\"))\n",
        "i=1\n",
        "while(i<=n):\n",
        "  print(\"the table {}\".format(i))\n",
        "  j=1\n",
        "  while(j<=10):\n",
        "    print(\"{}*{}={}\".format(i,j,i*j))\n",
        "    j+=1\n",
        "  i+=1"
      ],
      "metadata": {
        "colab": {
          "base_uri": "https://localhost:8080/"
        },
        "id": "s3dSxfhPj0Qz",
        "outputId": "420956da-e6a4-42f3-998f-bc50e226408a"
      },
      "execution_count": null,
      "outputs": [
        {
          "output_type": "stream",
          "name": "stdout",
          "text": [
            "enter until which table do you need5\n",
            "the table 1\n",
            "1*1=1\n",
            "1*2=2\n",
            "1*3=3\n",
            "1*4=4\n",
            "1*5=5\n",
            "1*6=6\n",
            "1*7=7\n",
            "1*8=8\n",
            "1*9=9\n",
            "1*10=10\n",
            "the table 2\n",
            "2*1=2\n",
            "2*2=4\n",
            "2*3=6\n",
            "2*4=8\n",
            "2*5=10\n",
            "2*6=12\n",
            "2*7=14\n",
            "2*8=16\n",
            "2*9=18\n",
            "2*10=20\n",
            "the table 3\n",
            "3*1=3\n",
            "3*2=6\n",
            "3*3=9\n",
            "3*4=12\n",
            "3*5=15\n",
            "3*6=18\n",
            "3*7=21\n",
            "3*8=24\n",
            "3*9=27\n",
            "3*10=30\n",
            "the table 4\n",
            "4*1=4\n",
            "4*2=8\n",
            "4*3=12\n",
            "4*4=16\n",
            "4*5=20\n",
            "4*6=24\n",
            "4*7=28\n",
            "4*8=32\n",
            "4*9=36\n",
            "4*10=40\n",
            "the table 5\n",
            "5*1=5\n",
            "5*2=10\n",
            "5*3=15\n",
            "5*4=20\n",
            "5*5=25\n",
            "5*6=30\n",
            "5*7=35\n",
            "5*8=40\n",
            "5*9=45\n",
            "5*10=50\n"
          ]
        }
      ]
    },
    {
      "cell_type": "code",
      "source": [
        "#loop control statements\n",
        "#break,continue,pass\n",
        "\n",
        "#break\n",
        "for i in range(10):\n",
        "  if i==5:\n",
        "    break\n",
        "  print(i)\n",
        "print(\"-------------\")\n",
        "#continue\n",
        "for i in range(10):\n",
        "  if i==5:\n",
        "    continue\n",
        "  print(i)\n",
        "#pass\n",
        "for i in range(10):\n",
        "  if i==5:\n",
        "    pass\n",
        "  print(\"it is not pass condition\")"
      ],
      "metadata": {
        "colab": {
          "base_uri": "https://localhost:8080/"
        },
        "id": "0Mbyh4CQkmZb",
        "outputId": "7d571967-1805-40cd-9b37-57d1b36baa8c"
      },
      "execution_count": null,
      "outputs": [
        {
          "output_type": "stream",
          "name": "stdout",
          "text": [
            "0\n",
            "1\n",
            "2\n",
            "3\n",
            "4\n",
            "-------------\n",
            "0\n",
            "1\n",
            "2\n",
            "3\n",
            "4\n",
            "6\n",
            "7\n",
            "8\n",
            "9\n",
            "it is not pass condition\n",
            "it is not pass condition\n",
            "it is not pass condition\n",
            "it is not pass condition\n",
            "it is not pass condition\n",
            "it is not pass condition\n",
            "it is not pass condition\n",
            "it is not pass condition\n",
            "it is not pass condition\n",
            "it is not pass condition\n"
          ]
        }
      ]
    },
    {
      "cell_type": "code",
      "source": [
        "#functions\n",
        "def greet(s):\n",
        "  print(\"hello \"+s)\n",
        "greet(\"srinija\")"
      ],
      "metadata": {
        "id": "O3Me83esnQzG",
        "colab": {
          "base_uri": "https://localhost:8080/"
        },
        "outputId": "18ee7f02-8e79-4e35-e093-474dbfe9e02a"
      },
      "execution_count": 17,
      "outputs": [
        {
          "output_type": "stream",
          "name": "stdout",
          "text": [
            "hello srinija\n"
          ]
        }
      ]
    },
    {
      "cell_type": "code",
      "source": [
        "#defalut\n",
        "def default(a,b=1,c=3):\n",
        "  print(a+b+c)\n",
        "default(1,2,3)\n",
        "default(4)"
      ],
      "metadata": {
        "colab": {
          "base_uri": "https://localhost:8080/"
        },
        "id": "zPJvxW0po1Ob",
        "outputId": "8be03ef0-6f6d-4e44-f62e-9b1b9fb5dd1e"
      },
      "execution_count": 18,
      "outputs": [
        {
          "output_type": "stream",
          "name": "stdout",
          "text": [
            "6\n",
            "8\n"
          ]
        }
      ]
    },
    {
      "cell_type": "code",
      "source": [
        "#keyword\n",
        "def key(a,b,c):\n",
        "  print(a+b+c)\n",
        "key(a=2,b=4,c=5)\n",
        "key(c=2,b=5,a=1)"
      ],
      "metadata": {
        "colab": {
          "base_uri": "https://localhost:8080/"
        },
        "id": "i8L1ZSenpEfo",
        "outputId": "802cd6d4-36c4-4a4c-b625-f2fddc52b017"
      },
      "execution_count": 19,
      "outputs": [
        {
          "output_type": "stream",
          "name": "stdout",
          "text": [
            "11\n",
            "8\n"
          ]
        }
      ]
    },
    {
      "cell_type": "code",
      "source": [
        "#positional\n",
        "def pos(a,b,c):\n",
        "  print(a+b+c)\n",
        "pos(1,2,3)"
      ],
      "metadata": {
        "colab": {
          "base_uri": "https://localhost:8080/"
        },
        "id": "xsRxlLtMpXPF",
        "outputId": "2cb844c0-2619-4e84-be2e-be3b579a30f1"
      },
      "execution_count": 21,
      "outputs": [
        {
          "output_type": "stream",
          "name": "stdout",
          "text": [
            "6\n"
          ]
        }
      ]
    },
    {
      "cell_type": "code",
      "source": [
        "#arbitrary positional\n",
        "def arpos(*n):\n",
        "  print(n)\n",
        "arpos(1,2,3,4,5,6,7)\n"
      ],
      "metadata": {
        "colab": {
          "base_uri": "https://localhost:8080/"
        },
        "id": "CGz0R_69p8sE",
        "outputId": "fe93bb0d-a238-4d1b-d1c7-5b53ba9736af"
      },
      "execution_count": 22,
      "outputs": [
        {
          "output_type": "stream",
          "name": "stdout",
          "text": [
            "(1, 2, 3, 4, 5, 6, 7)\n"
          ]
        }
      ]
    },
    {
      "cell_type": "code",
      "source": [
        "#arbitrary keyword\n",
        "def arkey(**k):\n",
        "  return k\n",
        "d=arkey(apples=30,banana=20,cherries=10)\n",
        "print(d['apples'])\n",
        "print(d)"
      ],
      "metadata": {
        "colab": {
          "base_uri": "https://localhost:8080/"
        },
        "id": "EKkpGNFnqbu7",
        "outputId": "d354e468-65e1-4416-e122-b5a3e37429fa"
      },
      "execution_count": 23,
      "outputs": [
        {
          "output_type": "stream",
          "name": "stdout",
          "text": [
            "30\n",
            "{'apples': 30, 'banana': 20, 'cherries': 10}\n"
          ]
        }
      ]
    },
    {
      "cell_type": "code",
      "source": [
        "#higher order function\n",
        "def upp(text):\n",
        "  return text.upper()\n",
        "def low(text):\n",
        "  return text.lower()\n",
        "def ex(func):\n",
        "  print(func(\"hII,HelLO\"))\n",
        "ex(upp)\n",
        "ex(low)"
      ],
      "metadata": {
        "colab": {
          "base_uri": "https://localhost:8080/"
        },
        "id": "n2mTmn5gsQaH",
        "outputId": "c50c2334-cf97-4878-e96c-ff889870b91b"
      },
      "execution_count": 24,
      "outputs": [
        {
          "output_type": "stream",
          "name": "stdout",
          "text": [
            "HII,HELLO\n",
            "hii,hello\n"
          ]
        }
      ]
    }
  ]
}