{
  "nbformat": 4,
  "nbformat_minor": 0,
  "metadata": {
    "colab": {
      "provenance": [],
      "authorship_tag": "ABX9TyOnF4pPvoSS4hDnRjYPob7J",
      "include_colab_link": true
    },
    "kernelspec": {
      "name": "python3",
      "display_name": "Python 3"
    },
    "language_info": {
      "name": "python"
    }
  },
  "cells": [
    {
      "cell_type": "markdown",
      "metadata": {
        "id": "view-in-github",
        "colab_type": "text"
      },
      "source": [
        "<a href=\"https://colab.research.google.com/github/srinijasriram/2216166_AIML_BootCamp_2023/blob/main/AIML_BOOTCAMP3.ipynb\" target=\"_parent\"><img src=\"https://colab.research.google.com/assets/colab-badge.svg\" alt=\"Open In Colab\"/></a>"
      ]
    },
    {
      "cell_type": "code",
      "execution_count": null,
      "metadata": {
        "id": "vbeP78pkhLjU"
      },
      "outputs": [],
      "source": [
        "'''\n",
        "file handling -- open ,perform operation, close files\n",
        "perform operations\n",
        "-- file object=open(\"filename\",\"mode\")\n",
        "\n",
        "modes \n",
        "x=create\n",
        "r=read\n",
        "w=write\n",
        "r+ =read and write\n",
        "w+ =write and read\n",
        "rb = read binary\n",
        "wb = write binary\n",
        "rb+ = read and write binary\n",
        "wb+= write and read binary\n",
        "a=append\n",
        "a+=append and read\n",
        "ab = append binary\n",
        "ab+ =append and read binary\n",
        "'''"
      ]
    },
    {
      "cell_type": "code",
      "source": [
        "f=open(\"sample.txt\",\"x\")"
      ],
      "metadata": {
        "id": "TVuVqpGblcJt"
      },
      "execution_count": 1,
      "outputs": []
    },
    {
      "cell_type": "code",
      "source": [
        "f=open(\"sample.txt\",\"w\")\n",
        "f.write(\"HELLO\")\n",
        "f.close()"
      ],
      "metadata": {
        "id": "OwctFjNjlux9"
      },
      "execution_count": 2,
      "outputs": []
    },
    {
      "cell_type": "code",
      "source": [
        "f=open(\"sample.txt\",\"r\")\n",
        "print(f.read(3))\n",
        "print(f.tell())\n",
        "print(f.seek(2))\n",
        "print(f.seek(0))\n",
        "print(f.readline())\n",
        "print(f.readlines())\n",
        "f.close()"
      ],
      "metadata": {
        "colab": {
          "base_uri": "https://localhost:8080/"
        },
        "id": "_ImFpSJBlu3n",
        "outputId": "33710ff5-98eb-462d-84ec-d5bac2d2ba40"
      },
      "execution_count": 3,
      "outputs": [
        {
          "output_type": "stream",
          "name": "stdout",
          "text": [
            "HEL\n",
            "3\n",
            "2\n",
            "0\n",
            "HELLO\n",
            "[]\n"
          ]
        }
      ]
    },
    {
      "cell_type": "code",
      "source": [
        "\"\"\"\n",
        "to remove a file\n",
        "import os\n",
        "os.remove(\"file_name\")\n",
        "\n",
        "\"\"\""
      ],
      "metadata": {
        "id": "HUXpwDKcn9Zo"
      },
      "execution_count": null,
      "outputs": []
    },
    {
      "cell_type": "code",
      "source": [
        "f1=open(\"f1.txt\",\"w\")\n",
        "f1.write(\"COPYPASTE\")\n",
        "f1.close()\n",
        "\n",
        "f1=open(\"f1.txt\",\"r\")\n",
        "temp=f1.read()\n",
        "f1.close()\n",
        "\n",
        "f2=open(\"f2.txt\",\"w\")\n",
        "f2.write(temp)\n",
        "f2.close()\n",
        "\n",
        "f2=open(\"f2.txt\",\"r\")\n",
        "print(f2.read())"
      ],
      "metadata": {
        "colab": {
          "base_uri": "https://localhost:8080/"
        },
        "id": "WAUfQgxooHmt",
        "outputId": "7e142a38-16ff-4f22-fc8e-7efefcfe930d"
      },
      "execution_count": 6,
      "outputs": [
        {
          "output_type": "stream",
          "name": "stdout",
          "text": [
            "COPYPASTE\n"
          ]
        }
      ]
    },
    {
      "cell_type": "code",
      "source": [
        "#append\n",
        "#reverse ,palindrome\n",
        "#check it ia an armstrong\n",
        "#create a dictionary and convert it into a list"
      ],
      "metadata": {
        "id": "-bSsQ85LofaP"
      },
      "execution_count": null,
      "outputs": []
    },
    {
      "cell_type": "code",
      "source": [
        "#pickling\n",
        "import pickle\n",
        "l=['a','b','c','d','e']\n",
        "li=open(\"d1.txt\",\"wb\")\n",
        "t=pickle.dump(l,li)\n",
        "print(t)\n",
        "li.close()\n",
        "\n",
        "#unpickling\n",
        "\n",
        "f=open(\"d1.txt\",\"rb\")\n",
        "e=pickle.load(f)\n",
        "print(e)"
      ],
      "metadata": {
        "colab": {
          "base_uri": "https://localhost:8080/"
        },
        "id": "x8FhbRqErLY0",
        "outputId": "56f0f6a2-0c0b-4a31-e3f0-e41f738f060c"
      },
      "execution_count": 9,
      "outputs": [
        {
          "output_type": "stream",
          "name": "stdout",
          "text": [
            "None\n",
            "['a', 'b', 'c', 'd', 'e']\n"
          ]
        }
      ]
    }
  ]
}